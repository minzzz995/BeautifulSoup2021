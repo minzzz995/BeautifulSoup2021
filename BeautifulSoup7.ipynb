{
 "cells": [
  {
   "cell_type": "code",
   "execution_count": 2,
   "id": "fea4b73a",
   "metadata": {},
   "outputs": [],
   "source": [
    "from urllib.request import urlopen #urllib.request는 URL을 가져오기 위한 파이썬 모듈\n",
    "from urllib.parse import quote_plus #URL문자열을 구성 요소로 분리하고, 구성 요소를 다시 URL 문자열로 결합하고, 절대 URL로 변환하는 표준 인터페이스를 정의\n",
    "from bs4 import BeautifulSoup #크롤링라이브러리\n",
    "from selenium import webdriver #크롤링라이브러리\n",
    "import time\n",
    "import datetime\n",
    "import os\n",
    "import urllib.request #복잡한 세계에서 URL(대부분 HTTP)을 여는 데 도움이 되는 함수와 클래스를 정의"
   ]
  },
  {
   "cell_type": "code",
   "execution_count": null,
   "id": "0ffcd96e",
   "metadata": {
    "scrolled": true
   },
   "outputs": [],
   "source": [
    "keyword = input('검색할 태그를 입력하세요 : ')\n",
    "url = 'https://www.google.co.kr/search?q={}&hl=ko&tbm=isch&sxsrf=AOaemvKf82pca0ztK_Z4-oBO-WGAZ_NCOA%3A1630999345973&source=hp&biw=2560&bih=1249&ei=MRM3YY_OOI-I-Abx3bDQBQ&oq=Lying+position&gs_lcp=CgNpbWcQAzoKCCMQ7wMQ6gIQJ1DopgdY6KYHYNWrB2gBcAB4AIABhAGIAYQBkgEDMC4xmAEAoAECoAEBqgELZ3dzLXdpei1pbWewAQo&sclient=img&ved=0ahUKEwjPqpKFquzyAhUPBN4KHfEuDFoQ4dUDCAc&uact=5#imgrc=BU2R4Ib2p9-0hM'.format(keyword)\n",
    "\n",
    "driver = webdriver.Chrome(\"C:\\\\Users\\\\chromedriver.exe\") \n",
    "driver.get(url) #셀리니움을 통한 브라우저 제어 시도\n",
    "\n",
    "html = driver.page_source #브라우저에서 소스정보 추출\n",
    "soup = BeautifulSoup(html, 'html.parser') #Python 내장 html.parser를 이용(첫 인자는 html소스코드, 두 번째 인자는 어떤 parser를 이용할지)\n",
    "images = soup.find_all('img', attrs={'class':'rg_i Q4LuWd'}) #find_all으로 원하는 부분을 모두 가져올 수 있음\n",
    "\n",
    "print('number of img tags: ', len(images))\n",
    "\n",
    "n = 1\n",
    "for i in images:\n",
    "    try:\n",
    "        imgUrl = i[\"src\"]\n",
    "    except:\n",
    "        imgUrl = i[\"data-src\"]\n",
    "        \n",
    "    with urllib.request.urlopen(imgUrl) as f:\n",
    "        with open('./img10/' + keyword + str(n) + '.jpg', 'wb') as h:\n",
    "            img = f.read()\n",
    "            h.write(img)         \n",
    "    n += 1\n",
    "    print(imgUrl) \n",
    "print('다운로드 완료')"
   ]
  },
  {
   "cell_type": "code",
   "execution_count": 3,
   "id": "6aa833b6",
   "metadata": {},
   "outputs": [
    {
     "ename": "FileExistsError",
     "evalue": "[WinError 183] 파일이 이미 있으므로 만들 수 없습니다: 'C:\\\\Users\\\\CPB06GameN\\\\jupyter notebook\\\\image\\\\10.jpg' -> 'C:\\\\Users\\\\CPB06GameN\\\\jupyter notebook\\\\image\\\\2.jpg'",
     "output_type": "error",
     "traceback": [
      "\u001b[1;31m---------------------------------------------------------------------------\u001b[0m",
      "\u001b[1;31mFileExistsError\u001b[0m                           Traceback (most recent call last)",
      "\u001b[1;32m<ipython-input-3-1b0cac36b74a>\u001b[0m in \u001b[0;36m<module>\u001b[1;34m\u001b[0m\n\u001b[0;32m     10\u001b[0m     \u001b[0mdst\u001b[0m \u001b[1;33m=\u001b[0m \u001b[0mstr\u001b[0m\u001b[1;33m(\u001b[0m\u001b[0mi\u001b[0m\u001b[1;33m)\u001b[0m \u001b[1;33m+\u001b[0m \u001b[1;34m'.jpg'\u001b[0m\u001b[1;33m\u001b[0m\u001b[1;33m\u001b[0m\u001b[0m\n\u001b[0;32m     11\u001b[0m     \u001b[0mdst\u001b[0m \u001b[1;33m=\u001b[0m \u001b[0mos\u001b[0m\u001b[1;33m.\u001b[0m\u001b[0mpath\u001b[0m\u001b[1;33m.\u001b[0m\u001b[0mjoin\u001b[0m\u001b[1;33m(\u001b[0m\u001b[0mfile_path\u001b[0m\u001b[1;33m,\u001b[0m \u001b[0mdst\u001b[0m\u001b[1;33m)\u001b[0m\u001b[1;33m\u001b[0m\u001b[1;33m\u001b[0m\u001b[0m\n\u001b[1;32m---> 12\u001b[1;33m     \u001b[0mos\u001b[0m\u001b[1;33m.\u001b[0m\u001b[0mrename\u001b[0m\u001b[1;33m(\u001b[0m\u001b[0msrc\u001b[0m\u001b[1;33m,\u001b[0m \u001b[0mdst\u001b[0m\u001b[1;33m)\u001b[0m\u001b[1;33m\u001b[0m\u001b[1;33m\u001b[0m\u001b[0m\n\u001b[0m\u001b[0;32m     13\u001b[0m     \u001b[0mi\u001b[0m \u001b[1;33m+=\u001b[0m \u001b[1;36m1\u001b[0m\u001b[1;33m\u001b[0m\u001b[1;33m\u001b[0m\u001b[0m\n",
      "\u001b[1;31mFileExistsError\u001b[0m: [WinError 183] 파일이 이미 있으므로 만들 수 없습니다: 'C:\\\\Users\\\\CPB06GameN\\\\jupyter notebook\\\\image\\\\10.jpg' -> 'C:\\\\Users\\\\CPB06GameN\\\\jupyter notebook\\\\image\\\\2.jpg'"
     ]
    }
   ],
   "source": [
    "import os\n",
    "\n",
    "file_path = 'C:\\\\Users\\\\CPB06GameN\\\\jupyter notebook\\\\image'\n",
    "file_names = os.listdir(file_path)\n",
    "file_names\n",
    "\n",
    "i = 1\n",
    "for name in file_names:\n",
    "    src = os.path.join(file_path, name)\n",
    "    dst = str(i) + '.jpg'\n",
    "    dst = os.path.join(file_path, dst)\n",
    "    os.rename(src, dst)\n",
    "    i += 1"
   ]
  }
 ],
 "metadata": {
  "kernelspec": {
   "display_name": "Python 3",
   "language": "python",
   "name": "python3"
  },
  "language_info": {
   "codemirror_mode": {
    "name": "ipython",
    "version": 3
   },
   "file_extension": ".py",
   "mimetype": "text/x-python",
   "name": "python",
   "nbconvert_exporter": "python",
   "pygments_lexer": "ipython3",
   "version": "3.8.8"
  }
 },
 "nbformat": 4,
 "nbformat_minor": 5
}
