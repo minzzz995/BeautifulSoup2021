{
 "cells": [
  {
   "cell_type": "code",
   "execution_count": 4,
   "id": "a8804a14",
   "metadata": {},
   "outputs": [
    {
     "name": "stdout",
     "output_type": "stream",
     "text": [
      "검색어 입력: Lying position\n",
      "크롤링할 갯수 입력(최대 50개): 50\n",
      "Image Crawling is done.\n"
     ]
    }
   ],
   "source": [
    "from bs4 import BeautifulSoup as bs\n",
    "from urllib.request import urlopen\n",
    "from urllib.parse import quote_plus\n",
    "import time\n",
    " \n",
    "baseUrl = 'https://www.google.ca/imghp?hl=en&tab=ri&authuser=0&ogbl'\n",
    "plusUrl = input('검색어 입력: ') \n",
    "crawl_num = int(input('크롤링할 갯수 입력(최대 50개): '))\n",
    " \n",
    "url = baseUrl + quote_plus(plusUrl) # 한글 검색 자동 변환\n",
    "html = urlopen(url)\n",
    "soup = bs(html, \"html.parser\")\n",
    "img = soup.find_all(class_='_img')\n",
    " \n",
    "n = 1\n",
    "for i in img:\n",
    "    print(n)\n",
    "    imgUrl = i['data-source']\n",
    "    with urlopen(imgUrl) as f:\n",
    "        with open('./images/img' + str(n)+'.jpg','wb') as h: # w - write b - binary\n",
    "            img = f.read()\n",
    "            h.write(img)\n",
    "    n += 1\n",
    "    if n > crawl_num:\n",
    "        break\n",
    "        time.sleep(1)\n",
    "        \n",
    "print('Image Crawling is done.')"
   ]
  },
  {
   "cell_type": "code",
   "execution_count": null,
   "id": "72a3f04f",
   "metadata": {},
   "outputs": [],
   "source": [
    "###################################################################################################"
   ]
  },
  {
   "cell_type": "code",
   "execution_count": 12,
   "id": "877fa160",
   "metadata": {},
   "outputs": [],
   "source": [
    "from urllib.request import urlopen \n",
    "from urllib.parse import quote_plus \n",
    "from bs4 import BeautifulSoup"
   ]
  },
  {
   "cell_type": "code",
   "execution_count": 13,
   "id": "e1a086ae",
   "metadata": {},
   "outputs": [
    {
     "name": "stdout",
     "output_type": "stream",
     "text": [
      "검색어를 입력하세요. Lying position\n"
     ]
    }
   ],
   "source": [
    "baseUrl = 'https://www.google.ca/imghp?hl=en&tab=ri&authuser=0&ogbl' \n",
    "plusUrl = input('검색어를 입력하세요. ') \n",
    "url = baseUrl + quote_plus(plusUrl)"
   ]
  },
  {
   "cell_type": "code",
   "execution_count": 14,
   "id": "8faea6b7",
   "metadata": {},
   "outputs": [],
   "source": [
    "html = urlopen(url).read() \n",
    "soup = BeautifulSoup(html, 'html.parser')\n",
    "img = soup.find_all('img', attrs={'class':'rg_i Q4LuWd'})"
   ]
  },
  {
   "cell_type": "code",
   "execution_count": 15,
   "id": "ba276f28",
   "metadata": {},
   "outputs": [
    {
     "name": "stdout",
     "output_type": "stream",
     "text": [
      "다운로드 완료\n"
     ]
    }
   ],
   "source": [
    "n = 1\n",
    "for i in img: \n",
    "    imgUrl = i.attrs['data-source'] \n",
    "    with urlopen(imgUrl) as f:  \n",
    "            # './img/' : 현재 프로그램이 실행하는 경로의 img 폴더에 \n",
    "            # 사용자가 검색한 plusUrl 값을 파일명으로 하고 뒤에 숫자 n을 붙임. 확장자는 '.jpg' \n",
    "            # n은 정수이기 때문에 문자열 합치기가 안됨. 그래서 문자열로 만듬 → str(n) \n",
    "            # 써야하니까 w를 넣고 이미지는 바이너리 파일이기 때문에 wb가 됨. \n",
    "            # 이러한 것을 h로 지정함.(부른다.) \n",
    "            with open('./img/' + plusUrl + str(n) + '.jpg', 'wb') as h: \n",
    "                    # f를 읽어서 img 변수에 저장. \n",
    "                    img = f.read() \n",
    "                    # img를 h에 쓴다. \n",
    "                    h.write(img) \n",
    "            # 그림 저장 시, 숫자를 증가시키면서 파일 이름을 정함. \n",
    "            n += 1 \n",
    "            # imgUrl를 출력하면서 진행상황을 파악(참고) \n",
    "            print(imgUrl) \n",
    "print('다운로드 완료')"
   ]
  },
  {
   "cell_type": "code",
   "execution_count": null,
   "id": "186d6e44",
   "metadata": {},
   "outputs": [],
   "source": []
  },
  {
   "cell_type": "code",
   "execution_count": null,
   "id": "d80e42c6",
   "metadata": {},
   "outputs": [],
   "source": []
  },
  {
   "cell_type": "code",
   "execution_count": null,
   "id": "1b28b026",
   "metadata": {},
   "outputs": [],
   "source": []
  }
 ],
 "metadata": {
  "kernelspec": {
   "display_name": "Python 3",
   "language": "python",
   "name": "python3"
  },
  "language_info": {
   "codemirror_mode": {
    "name": "ipython",
    "version": 3
   },
   "file_extension": ".py",
   "mimetype": "text/x-python",
   "name": "python",
   "nbconvert_exporter": "python",
   "pygments_lexer": "ipython3",
   "version": "3.8.8"
  }
 },
 "nbformat": 4,
 "nbformat_minor": 5
}
